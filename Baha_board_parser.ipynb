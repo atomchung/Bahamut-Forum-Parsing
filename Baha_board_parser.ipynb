{
 "cells": [
  {
   "cell_type": "code",
   "execution_count": 30,
   "metadata": {},
   "outputs": [],
   "source": [
    "import time\n",
    "import requests\n",
    "import re\n",
    "from selenium import webdriver  # 模擬瀏覽器打開過程\n",
    "from bs4 import BeautifulSoup\n",
    "from urllib.request import urlopen, Request\n",
    "import random\n",
    "import json    \n",
    "import slimit  # JS parser\n",
    "import pandas as pd"
   ]
  },
  {
   "cell_type": "code",
   "execution_count": 2,
   "metadata": {},
   "outputs": [],
   "source": [
    "## 爬巴哈姆特討論版排名\n",
    "url = \"https://forum.gamer.com.tw/\"\n",
    "req = Request(url,headers={'User-Agent': 'Mozilla/5.0'})\n",
    "html = urlopen(req).read().decode(\"utf-8\")\n",
    "soup_baha=  BeautifulSoup(html, features='lxml')\n",
    "\n",
    "# 找到 tag 是 js script\n",
    "# src = source\n",
    "script_tag = soup_baha.find_all(\"script\", {\"src\":False})\n",
    "\n",
    "## 把 tag script 中的第2個項目再用 var 變數去切, 找到定義 排行版的第二個變數 var _data\n",
    "## 再把不要的字拿到,再用 \"},{\" 去切, 最後再根據名稱 (bsn , hot m article 的對應值去找\n",
    "\n",
    "#### string = str(script_tag[2]).split(\"var \")[2][9:-33].split(\",}\")[0]\n",
    "### 找出歐巡時刻點的排行版名字\n",
    "\n",
    "string = str(script_tag[2]).split(\"var \")[2][9:-33]\n",
    "string2 = string[1:].split('},{')\n",
    "\n",
    "rank_list =[]\n",
    "hot_list =[]\n",
    "article_list = []\n",
    "\n",
    "for i in range(20):\n",
    "    for j in string2[i].split(\",\"):\n",
    "        if \"bsn\" in j:\n",
    "            rank_list.append(j.split(\":\")[1])\n",
    "        if \"hot\" in j:\n",
    "            hot_list.append(j.split(\":\")[1][1:-1])\n",
    "        if \"article\" in j:\n",
    "            article_list.append(j.split(\":\")[1][1:-1])\n",
    "\n"
   ]
  },
  {
   "cell_type": "code",
   "execution_count": 3,
   "metadata": {},
   "outputs": [],
   "source": [
    "### 將巴哈下的資料上傳到 google sheet\n",
    "\n",
    "import re\n",
    "from urllib.request import urlopen\n",
    "from bs4 import BeautifulSoup\n",
    "import json\n",
    "\n",
    "import gspread\n",
    "from oauth2client.service_account import ServiceAccountCredentials"
   ]
  },
  {
   "cell_type": "code",
   "execution_count": null,
   "metadata": {},
   "outputs": [],
   "source": [
    "# use creds to create a client to interact with the Google Drive API\n",
    "scope = ['https://spreadsheets.google.com/feeds',\n",
    "         'https://www.googleapis.com/auth/drive']\n",
    "creds = ServiceAccountCredentials.from_json_keyfile_name('client_id.json', scope)\n",
    "client = gspread.authorize(creds)\n",
    " \n",
    "# Find a workbook by name and open the first sheet\n",
    "# Make sure you use the right name here.\n",
    "sheet = client.open(\"baha_upload\").sheet1"
   ]
  },
  {
   "cell_type": "code",
   "execution_count": null,
   "metadata": {},
   "outputs": [],
   "source": [
    "# 把爬到的值填入 google sheet\n",
    "t = time.strftime(\"%Y-%m-%d-%H-%M\",time.localtime())\n",
    "for i in range(len(rank_list)):\n",
    "    sheet.append_row([i+1, rank_list[i], hot_list[i],article_list[i],t])"
   ]
  },
  {
   "cell_type": "code",
   "execution_count": 4,
   "metadata": {},
   "outputs": [],
   "source": []
  },
  {
   "cell_type": "code",
   "execution_count": 28,
   "metadata": {},
   "outputs": [
    {
     "data": {
      "text/plain": [
       "['場外休憩區 哈啦板 - 巴哈姆特',\n",
       " '魔物獵人 哈啦板 - 巴哈姆特',\n",
       " '神魔之塔 哈啦板 - 巴哈姆特',\n",
       " 'RO仙境傳說：守護永恆的愛 哈啦板 - 巴哈姆特',\n",
       " '天堂 Mobile 哈啦板 - 巴哈姆特',\n",
       " '新楓之谷 哈啦板 - 巴哈姆特',\n",
       " 'Fate/Grand Order 哈啦板 - 巴哈姆特',\n",
       " 'Garena 傳說對決（Arena of Valor）  哈啦板 - 巴哈姆特',\n",
       " '刀劍神域 關鍵鬥士 哈啦板 - 巴哈姆特',\n",
       " '英雄聯盟 League of Legends  哈啦板 - 巴哈姆特',\n",
       " '少女前線 哈啦板 - 巴哈姆特',\n",
       " '黑色沙漠 BLACK DESERT 哈啦板 - 巴哈姆特',\n",
       " '劍俠情緣 3 Online 哈啦板 - 巴哈姆特',\n",
       " '流亡黯道 Path of Exile 哈啦板 - 巴哈姆特',\n",
       " '怪物彈珠 哈啦板 - 巴哈姆特',\n",
       " '食之契約 哈啦板 - 巴哈姆特',\n",
       " 'PS4 / PlayStation4 哈啦板 - 巴哈姆特',\n",
       " '地下城堡 2：暗潮 哈啦板 - 巴哈姆特',\n",
       " '電腦應用綜合討論 哈啦板 - 巴哈姆特',\n",
       " '白貓 Project 哈啦板 - 巴哈姆特',\n",
       " '闇影詩章 Shadowverse 哈啦板 - 巴哈姆特',\n",
       " '超級機器人大戰 系列 哈啦板 - 巴哈姆特',\n",
       " 'Pokemon GO 哈啦板 - 巴哈姆特',\n",
       " '碧藍幻想 哈啦板 - 巴哈姆特',\n",
       " '時空鏈戰 哈啦板 - 巴哈姆特',\n",
       " '奇蹟MU：覺醒 哈啦板 - 巴哈姆特',\n",
       " 'OVERLORD 哈啦板 - 巴哈姆特',\n",
       " '爐石戰記 哈啦板 - 巴哈姆特']"
      ]
     },
     "execution_count": 28,
     "metadata": {},
     "output_type": "execute_result"
    }
   ],
   "source": [
    "##　找出board_id 對應的實際版名\n",
    "\n",
    "board_id = [60076,\n",
    "5786,\n",
    "23805,\n",
    "28924,\n",
    "25908,\n",
    "7650,\n",
    "26742,\n",
    "30518,\n",
    "33094,\n",
    "17532,\n",
    "31406,\n",
    "19017,\n",
    "16357,\n",
    "18966,\n",
    "25052,\n",
    "33581,\n",
    "60596,\n",
    "33751,\n",
    "60030,\n",
    "26686,\n",
    "29330,\n",
    "430,\n",
    "29659,\n",
    "25204,\n",
    "33305,\n",
    "33591,\n",
    "45462,\n",
    "24044]\n",
    "\n",
    "board_name = []\n",
    "for i in board_id:\n",
    "    url = \"https://forum.gamer.com.tw/A.php?bsn=\" + str(i)\n",
    "    req = Request(url,headers={'User-Agent': 'Mozilla/5.0'})\n",
    "    html = urlopen(req).read().decode(\"utf-8\")\n",
    "    soup = BeautifulSoup(html, features='lxml')\n",
    "    board_name.append(soup.find(\"title\").contents[0])\n",
    "    \n",
    "df = pd.DataFrame()\n",
    "df[\"board_id\"] = board_id\n",
    "df[\"board_name\"] = board_name\n",
    "df"
   ]
  },
  {
   "cell_type": "code",
   "execution_count": null,
   "metadata": {},
   "outputs": [],
   "source": []
  },
  {
   "cell_type": "code",
   "execution_count": null,
   "metadata": {},
   "outputs": [],
   "source": []
  },
  {
   "cell_type": "code",
   "execution_count": null,
   "metadata": {},
   "outputs": [],
   "source": []
  },
  {
   "cell_type": "code",
   "execution_count": null,
   "metadata": {},
   "outputs": [],
   "source": []
  }
 ],
 "metadata": {
  "kernelspec": {
   "display_name": "Python 3",
   "language": "python",
   "name": "python3"
  },
  "language_info": {
   "codemirror_mode": {
    "name": "ipython",
    "version": 3
   },
   "file_extension": ".py",
   "mimetype": "text/x-python",
   "name": "python",
   "nbconvert_exporter": "python",
   "pygments_lexer": "ipython3",
   "version": "3.6.4"
  }
 },
 "nbformat": 4,
 "nbformat_minor": 2
}
